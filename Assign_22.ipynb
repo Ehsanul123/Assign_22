{
 "cells": [
  {
   "cell_type": "code",
   "execution_count": 3,
   "id": "f9bd9bde",
   "metadata": {},
   "outputs": [
    {
     "name": "stdout",
     "output_type": "stream",
     "text": [
      "iNeuron\n"
     ]
    }
   ],
   "source": [
    "#(1):-\n",
    "\n",
    "X = 'iNeuron'\n",
    "def func():\n",
    "    print(X)\n",
    "\n",
    "func()"
   ]
  },
  {
   "cell_type": "code",
   "execution_count": null,
   "id": "2028f963",
   "metadata": {},
   "outputs": [],
   "source": [
    "'''The Result of this code is iNeuron, it's because the function intially looks for the variable X in its local scope,\n",
    "But since there is no local variable X, its returns the value of global variable x ie iNeuron'''"
   ]
  },
  {
   "cell_type": "code",
   "execution_count": 10,
   "id": "c8579792",
   "metadata": {},
   "outputs": [
    {
     "name": "stdout",
     "output_type": "stream",
     "text": [
      "iNeuron\n"
     ]
    }
   ],
   "source": [
    "#(2):-\n",
    "\n",
    "X = 'iNeuron'\n",
    "def func():\n",
    "    X = 'NI!'\n",
    "\n",
    "func()\n",
    "print(X)"
   ]
  },
  {
   "cell_type": "code",
   "execution_count": null,
   "id": "5e8f650d",
   "metadata": {},
   "outputs": [],
   "source": [
    "'''The line, func() Call the function we defined, with \"NI\" as the value of X inside the funtion, but doesn't prints it,\n",
    "as there is no print statement inside the function.The line, print(X), prints the value of X, which is \"iNeuron\", \n",
    "which is outside func().'''"
   ]
  },
  {
   "cell_type": "code",
   "execution_count": 13,
   "id": "780474c5",
   "metadata": {},
   "outputs": [
    {
     "name": "stdout",
     "output_type": "stream",
     "text": [
      "NI\n",
      "iNeuron\n"
     ]
    }
   ],
   "source": [
    "#(3):-\n",
    "\n",
    "X = 'iNeuron'\n",
    "def func():\n",
    "    X = 'NI'\n",
    "    print(X)\n",
    "\n",
    "func()\n",
    "print(X)"
   ]
  },
  {
   "cell_type": "code",
   "execution_count": null,
   "id": "158db7f4",
   "metadata": {},
   "outputs": [],
   "source": [
    "'''The line, func() Call the function we defined which prints the value of X, which is \"NI\" inside the funtion.\n",
    "The line, print(X), prints the value of X, which is \"iNeuron\", which is outside func().'''"
   ]
  },
  {
   "cell_type": "code",
   "execution_count": 14,
   "id": "6f8d513b",
   "metadata": {},
   "outputs": [
    {
     "name": "stdout",
     "output_type": "stream",
     "text": [
      "NI\n"
     ]
    }
   ],
   "source": [
    "#(4):\n",
    "\n",
    "X = 'iNeuron'\n",
    "def func():\n",
    "    global X\n",
    "    X = 'NI'\n",
    "\n",
    "func()\n",
    "print(X)"
   ]
  },
  {
   "cell_type": "code",
   "execution_count": null,
   "id": "9394f233",
   "metadata": {},
   "outputs": [],
   "source": [
    "'''The line, func() Call the function we defined, with \"NI\" as the value of X inside the funtion, but doesn't prints it,\n",
    "as there is no print statement inside the function, and we have used global keyword, which means,global keyword allows us\n",
    "to modify the variable, that is \"X\", outside of the current function.The line, print(X), prints the value of X, which is\n",
    "now \"NI\", as we used global keyword inside the function.'''"
   ]
  },
  {
   "cell_type": "code",
   "execution_count": 22,
   "id": "d00b6314",
   "metadata": {},
   "outputs": [
    {
     "name": "stdout",
     "output_type": "stream",
     "text": [
      "NI\n"
     ]
    },
    {
     "data": {
      "text/plain": [
       "'iNeuron'"
      ]
     },
     "execution_count": 22,
     "metadata": {},
     "output_type": "execute_result"
    }
   ],
   "source": [
    "#(5):-\n",
    "\n",
    "X = 'iNeuron'\n",
    "def func():\n",
    "    X = 'NI'\n",
    "    def nested():\n",
    "        print(X)\n",
    "    nested()\n",
    "func()\n",
    "X"
   ]
  },
  {
   "cell_type": "code",
   "execution_count": null,
   "id": "fcde8a68",
   "metadata": {},
   "outputs": [],
   "source": [
    "'''The output of the code is NI. the reason for this output is if a function wants to access a variable, \n",
    "if its not available in its localscope. it looks for the variable in its global scope. similarly here also function \n",
    "nested looks for variable X in its global scope. hence the output of the code is NI'''"
   ]
  },
  {
   "cell_type": "code",
   "execution_count": 29,
   "id": "185af98e",
   "metadata": {},
   "outputs": [
    {
     "name": "stdout",
     "output_type": "stream",
     "text": [
      "Spam\n"
     ]
    }
   ],
   "source": [
    "#(6):\n",
    "\n",
    "def func():\n",
    "    X = 'NI'\n",
    "    def nested():\n",
    "        nonlocal X\n",
    "        X = 'Spam'\n",
    "    nested()\n",
    "    print(X)\n",
    "func()"
   ]
  },
  {
   "cell_type": "code",
   "execution_count": null,
   "id": "2417dc68",
   "metadata": {},
   "outputs": [],
   "source": [
    "'''The output of the code is Spam. nonlocal keyword in python is used to declare a variable as not local.Hence the statement\n",
    "X = \"Spam\" is modified in the global scope. hence the output of print(X) statement is Spam'''"
   ]
  },
  {
   "cell_type": "code",
   "execution_count": null,
   "id": "1b129c66",
   "metadata": {},
   "outputs": [],
   "source": []
  }
 ],
 "metadata": {
  "kernelspec": {
   "display_name": "Python 3 (ipykernel)",
   "language": "python",
   "name": "python3"
  },
  "language_info": {
   "codemirror_mode": {
    "name": "ipython",
    "version": 3
   },
   "file_extension": ".py",
   "mimetype": "text/x-python",
   "name": "python",
   "nbconvert_exporter": "python",
   "pygments_lexer": "ipython3",
   "version": "3.9.7"
  }
 },
 "nbformat": 4,
 "nbformat_minor": 5
}
